{
 "cells": [
  {
   "cell_type": "markdown",
   "metadata": {},
   "source": [
    "## First, let's install and import all required libraries"
   ]
  },
  {
   "cell_type": "code",
   "execution_count": null,
   "metadata": {},
   "outputs": [],
   "source": [
    "#!pip install -r requirements.txt"
   ]
  },
  {
   "cell_type": "code",
   "execution_count": null,
   "metadata": {},
   "outputs": [],
   "source": [
    "import collections                        #This library adds some extras to the standard python data structures\n",
    "import folium                             #Great library for plotting data on maps\n",
    "import json                               #This library allows us to load and hyndle json files with python\n",
    "import os                                 #This module is usefull for handling paths and directories\n",
    "import webbrowser                         #This library allows to handle the webbrowser from python\n",
    "import time\n",
    "import datetime\n",
    "import pandas as pd\n",
    "from folium.plugins import HeatMap\n",
    "from progressbar import ProgressBar, Bar, ETA, Percentage"
   ]
  },
  {
   "cell_type": "markdown",
   "metadata": {},
   "source": [
    "## Now, let's load and analyze our location history json file "
   ]
  },
  {
   "cell_type": "code",
   "execution_count": null,
   "metadata": {},
   "outputs": [],
   "source": [
    "data = json.load(open('Location_History_Juan.json'))"
   ]
  },
  {
   "cell_type": "code",
   "execution_count": null,
   "metadata": {},
   "outputs": [],
   "source": [
    "data"
   ]
  },
  {
   "cell_type": "code",
   "execution_count": null,
   "metadata": {},
   "outputs": [],
   "source": [
    "type(data)"
   ]
  },
  {
   "cell_type": "code",
   "execution_count": null,
   "metadata": {},
   "outputs": [],
   "source": [
    "data[\"locations\"]"
   ]
  },
  {
   "cell_type": "code",
   "execution_count": null,
   "metadata": {},
   "outputs": [],
   "source": [
    "df = pd.DataFrame(data[\"locations\"])\n",
    "df"
   ]
  },
  {
   "cell_type": "code",
   "execution_count": null,
   "metadata": {
    "scrolled": true
   },
   "outputs": [],
   "source": [
    "df = df.drop(columns=['activity'])\n",
    "df"
   ]
  },
  {
   "cell_type": "markdown",
   "metadata": {},
   "source": [
    "## Now we can extract and tranform the data we need to make our map "
   ]
  },
  {
   "cell_type": "code",
   "execution_count": null,
   "metadata": {},
   "outputs": [],
   "source": [
    "coordinates = collections.defaultdict(int)"
   ]
  },
  {
   "cell_type": "code",
   "execution_count": null,
   "metadata": {},
   "outputs": [],
   "source": [
    "coordinates"
   ]
  },
  {
   "cell_type": "code",
   "execution_count": null,
   "metadata": {},
   "outputs": [],
   "source": [
    "max_coordinates = (0, 0)"
   ]
  },
  {
   "cell_type": "code",
   "execution_count": null,
   "metadata": {},
   "outputs": [],
   "source": [
    "max_magnitude = 0"
   ]
  },
  {
   "cell_type": "code",
   "execution_count": null,
   "metadata": {},
   "outputs": [],
   "source": [
    "\"\"\"Here you transfor the coordinates given by google in actual longitude and latitude coordinates and\n",
    "show the progress using the progress bar widget\"\"\"\n",
    "\n",
    "w = [Bar(), Percentage(), \" \", ETA()]\n",
    "with ProgressBar(max_value=len(data[\"locations\"]), widgets=w) as pb:\n",
    "    for i, loc in enumerate(data[\"locations\"]):\n",
    "        # print(i)\n",
    "        # print(loc)\n",
    "        if \"latitudeE7\" not in loc or \"longitudeE7\" not in loc:\n",
    "            continue\n",
    "        coords = (round(loc[\"latitudeE7\"] / 1e7, 6),\n",
    "                    round(loc[\"longitudeE7\"] / 1e7, 6))\n",
    "        # print(coords)\n",
    "\n",
    "        \n",
    "        \"\"\"Here you calculate the magnitude for all coordinates\"\"\"\n",
    "        \n",
    "        #print(loc[\"timestampMs\"])\n",
    "        coordinates[coords] += 1 #these are the magnitude values we will need for the coordinates dictionary\n",
    "        #print(coordinates[coords])\n",
    "            \n",
    "        if coordinates[coords] > max_magnitude:\n",
    "            max_coordinates = coords\n",
    "            max_magnitude = coordinates[coords]\n",
    "            #print(max_coordinates)\n",
    "            #print(max_magnitude)\n",
    "        \n",
    "        \"\"\"This command updates the progress bar\"\"\"\n",
    "        pb.update(i)"
   ]
  },
  {
   "cell_type": "code",
   "execution_count": null,
   "metadata": {},
   "outputs": [],
   "source": [
    "coordinates"
   ]
  },
  {
   "cell_type": "code",
   "execution_count": null,
   "metadata": {},
   "outputs": [],
   "source": [
    "tilesoptions = [\"openstreetmap\", \"StamenTerrain\", \"stamentoner\",\n",
    "                \"stamenwatercolor\", \"cartodbpositron\", \"cartodbdark_matter\"]\n",
    "\n",
    "tiles = tilesoptions[0]\n",
    "zoom_start = 10\n",
    "radius = 7\n",
    "blur = 4\n",
    "min_opacity = 0.2\n",
    "max_zoom = 10\n"
   ]
  },
  {
   "cell_type": "code",
   "execution_count": null,
   "metadata": {},
   "outputs": [],
   "source": [
    "map_data = [(coords[0], coords[1], magnitude)\n",
    "            for coords, magnitude in coordinates.items()] #coords are keys in the dict. magnitudes are the values"
   ]
  },
  {
   "cell_type": "code",
   "execution_count": null,
   "metadata": {},
   "outputs": [],
   "source": [
    "map_data"
   ]
  },
  {
   "cell_type": "code",
   "execution_count": null,
   "metadata": {
    "scrolled": true
   },
   "outputs": [],
   "source": [
    "# Generate background map\n",
    "m = folium.Map(location=max_coordinates,\n",
    "                zoom_start=zoom_start,\n",
    "                tiles=tiles)\n",
    "\n",
    "# Generate heat map\n",
    "heatmap = HeatMap(map_data,\n",
    "                    max_val=max_magnitude,\n",
    "                    min_opacity=min_opacity,\n",
    "                    radius=radius,\n",
    "                    blur=blur,\n",
    "                    max_zoom=max_zoom)\n",
    "\n",
    "m.add_child(heatmap)"
   ]
  },
  {
   "cell_type": "markdown",
   "metadata": {},
   "source": [
    "## We can now save our map as an html file and launch it in the browser "
   ]
  },
  {
   "cell_type": "code",
   "execution_count": null,
   "metadata": {},
   "outputs": [],
   "source": [
    "output_file = tiles + 'heatmapJuan.html'"
   ]
  },
  {
   "cell_type": "code",
   "execution_count": null,
   "metadata": {},
   "outputs": [],
   "source": [
    "m.save(output_file)"
   ]
  },
  {
   "cell_type": "code",
   "execution_count": null,
   "metadata": {},
   "outputs": [],
   "source": [
    "webbrowser.open(\"file://\" + os.path.realpath(output_file))"
   ]
  },
  {
   "cell_type": "markdown",
   "metadata": {},
   "source": [
    "## Now let's wrap everything into a function and play with it"
   ]
  },
  {
   "cell_type": "code",
   "execution_count": null,
   "metadata": {},
   "outputs": [],
   "source": [
    "def plotmymaps(Tiles, Zoom_start=10, Radius=7, Blur=4, Min_opacity=0.2, Max_zoom=10):\n",
    "\n",
    "    tilesoptions = [\"openstreetmap\", \"StamenTerrain\", \"stamentoner\",\n",
    "                    \"stamenwatercolor\", \"cartodbpositron\", \"cartodbdark_matter\"]\n",
    "\n",
    "    tiles = tilesoptions[Tiles]\n",
    "    zoom_start = Zoom_start\n",
    "    radius = Radius\n",
    "    blur = Blur\n",
    "    min_opacity = Min_opacity\n",
    "    max_zoom = Max_zoom\n",
    "\n",
    "    map_data = [(coords[0], coords[1], magnitude)\n",
    "                for coords, magnitude in coordinates.items()] \n",
    "                #coords are keys in the dict. magnitudes are the values\n",
    "\n",
    "        # Generate background map\n",
    "    m = folium.Map(location=max_coordinates,\n",
    "                    zoom_start=zoom_start,\n",
    "                    tiles=tiles)\n",
    "\n",
    "    # Generate heat map\n",
    "    heatmap = HeatMap(map_data,\n",
    "                        max_val=max_magnitude,\n",
    "                        min_opacity=min_opacity,\n",
    "                        radius=radius,\n",
    "                        blur=blur,\n",
    "                        max_zoom=max_zoom)\n",
    "\n",
    "    m.add_child(heatmap)\n",
    "    output_file = tiles + 'heatmapJuan.html'\n",
    "    m.save(output_file)\n",
    "    webbrowser.open(\"file://\" + os.path.realpath(output_file))"
   ]
  },
  {
   "cell_type": "code",
   "execution_count": null,
   "metadata": {},
   "outputs": [],
   "source": [
    "plotmymaps(5, 2, 2, 2, 2, 2)"
   ]
  },
  {
   "cell_type": "markdown",
   "metadata": {},
   "source": [
    "## What if we only want to plot data for a specific time range? "
   ]
  },
  {
   "cell_type": "code",
   "execution_count": null,
   "metadata": {},
   "outputs": [],
   "source": [
    "df"
   ]
  },
  {
   "cell_type": "code",
   "execution_count": null,
   "metadata": {},
   "outputs": [],
   "source": [
    "min_date='2013-7-1'\n",
    "max_date='2013-7-31'"
   ]
  },
  {
   "cell_type": "code",
   "execution_count": null,
   "metadata": {},
   "outputs": [],
   "source": [
    "def transformdate(date):\n",
    "    element = datetime.datetime.strptime(date,\"%Y-%m-%d\")\n",
    "    elementtuple = element.timetuple()\n",
    "    timestamp = time.mktime(elementtuple)\n",
    "    return timestamp"
   ]
  },
  {
   "cell_type": "code",
   "execution_count": null,
   "metadata": {},
   "outputs": [],
   "source": [
    "min_timestamp=(transformdate(min_date))*1000"
   ]
  },
  {
   "cell_type": "code",
   "execution_count": null,
   "metadata": {},
   "outputs": [],
   "source": [
    "min_timestamp"
   ]
  },
  {
   "cell_type": "code",
   "execution_count": null,
   "metadata": {},
   "outputs": [],
   "source": [
    "max_timestamp=(transformdate(max_date))*1000"
   ]
  },
  {
   "cell_type": "code",
   "execution_count": null,
   "metadata": {},
   "outputs": [],
   "source": [
    "max_timestamp"
   ]
  },
  {
   "cell_type": "code",
   "execution_count": null,
   "metadata": {},
   "outputs": [],
   "source": [
    "df[\"timestampMs\"] = pd.to_numeric(df[\"timestampMs\"])"
   ]
  },
  {
   "cell_type": "code",
   "execution_count": null,
   "metadata": {},
   "outputs": [],
   "source": [
    "df2 = df[df.timestampMs > min_timestamp]\n",
    "df2 = df2[df.timestampMs < max_timestamp]"
   ]
  },
  {
   "cell_type": "code",
   "execution_count": null,
   "metadata": {},
   "outputs": [],
   "source": [
    "df2"
   ]
  },
  {
   "cell_type": "code",
   "execution_count": null,
   "metadata": {},
   "outputs": [],
   "source": [
    "df2.to_json('temp.json', orient='records', lines=True)"
   ]
  },
  {
   "cell_type": "code",
   "execution_count": null,
   "metadata": {},
   "outputs": [],
   "source": [
    "data2 = [json.loads(line) for line in open('temp.json', 'r')]"
   ]
  },
  {
   "cell_type": "code",
   "execution_count": null,
   "metadata": {},
   "outputs": [],
   "source": [
    "data2"
   ]
  },
  {
   "cell_type": "code",
   "execution_count": null,
   "metadata": {},
   "outputs": [],
   "source": [
    "coordinates = collections.defaultdict(int)\n",
    "max_coordinates = (0, 0)\n",
    "max_magnitude = 0"
   ]
  },
  {
   "cell_type": "code",
   "execution_count": null,
   "metadata": {},
   "outputs": [],
   "source": [
    "\"\"\"Here you transfor the coordinates given by google in actual longitude and latitude coordinates and\n",
    "show the progress using the progress bar widget\"\"\"\n",
    "\n",
    "w = [Bar(), Percentage(), \" \", ETA()]\n",
    "with ProgressBar(max_value=len(data2), widgets=w) as pb:\n",
    "    for i, loc in enumerate(data2):\n",
    "        # print(i)\n",
    "        # print(loc)\n",
    "        if \"latitudeE7\" not in loc or \"longitudeE7\" not in loc:\n",
    "            continue\n",
    "        coords = (round(loc[\"latitudeE7\"] / 1e7, 6),\n",
    "                    round(loc[\"longitudeE7\"] / 1e7, 6))\n",
    "        # print(coords)\n",
    "\n",
    "        \n",
    "        \"\"\"Here you calculate the magnitude for all coordinates\"\"\"\n",
    "        \n",
    "        #print(loc[\"timestampMs\"])\n",
    "        coordinates[coords] += 1 #these are the magnitude values we will need for the coordinates dictionary\n",
    "        #print(coordinates[coords])\n",
    "            \n",
    "        if coordinates[coords] > max_magnitude:\n",
    "            max_coordinates = coords\n",
    "            max_magnitude = coordinates[coords]\n",
    "            #print(max_coordinates)\n",
    "            #print(max_magnitude)\n",
    "        \n",
    "        \"\"\"This command updates the progress bar\"\"\"\n",
    "        pb.update(i)"
   ]
  },
  {
   "cell_type": "code",
   "execution_count": null,
   "metadata": {},
   "outputs": [],
   "source": [
    "plotmymaps(1)"
   ]
  },
  {
   "cell_type": "code",
   "execution_count": null,
   "metadata": {},
   "outputs": [],
   "source": []
  }
 ],
 "metadata": {
  "kernelspec": {
   "display_name": "Python 3",
   "language": "python",
   "name": "python3"
  },
  "language_info": {
   "codemirror_mode": {
    "name": "ipython",
    "version": 3
   },
   "file_extension": ".py",
   "mimetype": "text/x-python",
   "name": "python",
   "nbconvert_exporter": "python",
   "pygments_lexer": "ipython3",
   "version": "3.7.4"
  }
 },
 "nbformat": 4,
 "nbformat_minor": 2
}
